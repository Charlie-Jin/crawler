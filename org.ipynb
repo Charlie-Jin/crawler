{
 "cells": [
  {
   "cell_type": "code",
   "execution_count": 4,
   "metadata": {
    "collapsed": false
   },
   "outputs": [],
   "source": [
    "import requests\n",
    "import lxml.html\n",
    "from lxml import etree\n",
    "import pandas as pd\n",
    "import time\n",
    "import random\n",
    "import re"
   ]
  },
  {
   "cell_type": "code",
   "execution_count": null,
   "metadata": {
    "collapsed": true
   },
   "outputs": [],
   "source": []
  },
  {
   "cell_type": "code",
   "execution_count": 116,
   "metadata": {
    "collapsed": true
   },
   "outputs": [],
   "source": []
  },
  {
   "cell_type": "code",
   "execution_count": 101,
   "metadata": {
    "collapsed": false
   },
   "outputs": [
    {
     "name": "stdout",
     "output_type": "stream",
     "text": [
      "['https://tw.user.mall.yahoo.com/rating/list?sid=miu-star&s=&b=1001', 'https://tw.user.mall.yahoo.com/rating/list?sid=miu-star&s=&b=1002']\n"
     ]
    }
   ],
   "source": [
    "urls = [\"https://tw.user.mall.yahoo.com/rating/list?sid=miu-star&s=&b=\" + str(i+1001) for i in range(2)]\n",
    "#urls = [\"https://tw.user.mall.yahoo.com/rating/list?sid=a74226&s=&b=\" + str(i+1) for i in range(1)]\n",
    "#urls = [\"https://tw.user.mall.yahoo.com/rating/list?sid=a74226&s=&b=1\"]\n",
    "print urls"
   ]
  },
  {
   "cell_type": "code",
   "execution_count": 102,
   "metadata": {
    "collapsed": false
   },
   "outputs": [],
   "source": [
    "# get product urls in a store\n",
    "# use for getting product name and price\n",
    "#s_url = \"https://tw.user.mall.yahoo.com/rating/list?sid=miu-star&s=&b=\"\n",
    "\n",
    "### how to save two result###\n",
    "s_url = \"https://tw.user.mall.yahoo.com/rating/list?sid=mina_shop&s=&b=\"\n",
    "def listproductUrls(s_url):\n",
    "    pd_urls = []\n",
    "    rt_urls = []\n",
    "    page = 1\n",
    "    while True:\n",
    "        i = s_url + str(page)\n",
    "        print i\n",
    "        res = requests.get(i)\n",
    "        doc = etree.HTML(res.text)\n",
    "        p_url = doc.xpath(\"//td[@class='content']/ul[1]/*/a/@href\")\n",
    "        if len(p_url) == 0 :\n",
    "            break\n",
    "        else: \n",
    "            pd_urls += p_url\n",
    "            rt_urls.append(i)\n",
    "            print rt_urls\n",
    "        page += 1\n",
    "    return pd_urls, rt_urls\n",
    "\n",
    "\n",
    "#pd_urls = listproductUrls()"
   ]
  },
  {
   "cell_type": "code",
   "execution_count": 103,
   "metadata": {
    "collapsed": false
   },
   "outputs": [
    {
     "name": "stdout",
     "output_type": "stream",
     "text": [
      "https://tw.user.mall.yahoo.com/rating/list?sid=mina_shop&s=&b=1\n",
      "['https://tw.user.mall.yahoo.com/rating/list?sid=mina_shop&s=&b=1']\n",
      "https://tw.user.mall.yahoo.com/rating/list?sid=mina_shop&s=&b=2\n",
      "['https://tw.user.mall.yahoo.com/rating/list?sid=mina_shop&s=&b=1', 'https://tw.user.mall.yahoo.com/rating/list?sid=mina_shop&s=&b=2']\n",
      "https://tw.user.mall.yahoo.com/rating/list?sid=mina_shop&s=&b=3\n"
     ]
    }
   ],
   "source": [
    "pd_urls, rt_urls = listproductUrls(s_url)\n"
   ]
  },
  {
   "cell_type": "code",
   "execution_count": 104,
   "metadata": {
    "collapsed": false
   },
   "outputs": [
    {
     "data": {
      "text/plain": [
       "['https://tw.user.mall.yahoo.com/rating/list?sid=mina_shop&s=&b=1',\n",
       " 'https://tw.user.mall.yahoo.com/rating/list?sid=mina_shop&s=&b=2']"
      ]
     },
     "execution_count": 104,
     "metadata": {},
     "output_type": "execute_result"
    }
   ],
   "source": [
    " rt_urls"
   ]
  },
  {
   "cell_type": "code",
   "execution_count": 105,
   "metadata": {
    "collapsed": false
   },
   "outputs": [
    {
     "data": {
      "text/plain": [
       "['http://tw.mall.yahoo.com/item/p099085911604',\n",
       " 'http://tw.mall.yahoo.com/item/p099090234176',\n",
       " 'http://tw.mall.yahoo.com/item/p099081806040',\n",
       " 'http://tw.mall.yahoo.com/item/p099082997910',\n",
       " 'http://tw.mall.yahoo.com/item/p099083239364',\n",
       " 'http://tw.mall.yahoo.com/item/p099084749554',\n",
       " 'http://tw.mall.yahoo.com/item/p099070613145',\n",
       " 'http://tw.mall.yahoo.com/item/p099076416423',\n",
       " 'http://tw.mall.yahoo.com/item/p099078747369',\n",
       " 'http://tw.mall.yahoo.com/item/p099069432260',\n",
       " 'http://tw.mall.yahoo.com/item/p099072935543',\n",
       " 'http://tw.mall.yahoo.com/item/p099071483551',\n",
       " 'http://tw.mall.yahoo.com/item/p099071555393',\n",
       " 'http://tw.mall.yahoo.com/item/p099069914319',\n",
       " 'http://tw.mall.yahoo.com/item/p099067692047',\n",
       " 'http://tw.mall.yahoo.com/item/p099068953930',\n",
       " 'http://tw.mall.yahoo.com/item/p099069432336',\n",
       " 'http://tw.mall.yahoo.com/item/p099070179614',\n",
       " 'http://tw.mall.yahoo.com/item/p099069108075',\n",
       " 'http://tw.mall.yahoo.com/item/p099067687983',\n",
       " 'http://tw.mall.yahoo.com/item/p099066801271']"
      ]
     },
     "execution_count": 105,
     "metadata": {},
     "output_type": "execute_result"
    }
   ],
   "source": [
    "pd_urls"
   ]
  },
  {
   "cell_type": "code",
   "execution_count": 106,
   "metadata": {
    "collapsed": false
   },
   "outputs": [],
   "source": [
    "#get table 1: product url, product name, price\n",
    "# input product url\n",
    "\n",
    "def gettable1(urls):\n",
    "    dic_t1 = {}\n",
    "    dic_t1[\"Name\"] = []\n",
    "    dic_t1[\"Price\"] = []\n",
    "    dic_t1[\"Url\"] = []\n",
    "    for url in urls:\n",
    "        dic_t1[\"Url\"] = urls\n",
    "        res = requests.get(url)\n",
    "        doc = etree.HTML(res.text)\n",
    "     \n",
    "        e_nm = doc.xpath(\"//div[@id='ypsiif']/div/div[@class='bd bbg clearfix']/div[@class='right clearfix']/div[@class='top']/h1/span[1]/text()\")\n",
    "        e_nm_ch = [x.encode('utf8') for x in e_nm]\n",
    "    \n",
    "        e_pc = doc.xpath(\"//div[@class='points']/span[@class='has_promo_price']/text()\")\n",
    "        e_pc_ch = [x.encode('utf8') for x in e_pc]\n",
    "        #if it's type 2 use another way to get data\n",
    "        #if it's gone put None\n",
    "        if len(e_pc_ch) == 0 and len(e_nm_ch) > 0:\n",
    "            e_pc = doc.xpath(\"//td/div[@class='points enlarge-offset']/span[@class='price']/text()\")\n",
    "            e_pc_ch = [x.encode('utf8') for x in e_pc]\n",
    "        elif len(e_pc_ch) == 0 and len(e_nm_ch) == 0:\n",
    "            e_nm_ch = [\"None\"]\n",
    "            e_pc_ch = [\"None\"]\n",
    "        #print len(e_nm_ch)\n",
    "        #print len(e_pc_ch)\n",
    "        #for n, p in zip(e_nm_ch, e_pc_ch) :\n",
    "        dic_t1[\"Name\"].append(e_nm_ch)\n",
    "        dic_t1[\"Price\"].append(e_pc_ch)\n",
    "    return dic_t1\n",
    "\n"
   ]
  },
  {
   "cell_type": "code",
   "execution_count": null,
   "metadata": {
    "collapsed": true
   },
   "outputs": [],
   "source": []
  },
  {
   "cell_type": "code",
   "execution_count": 97,
   "metadata": {
    "collapsed": false
   },
   "outputs": [
    {
     "data": {
      "text/plain": [
       "{'Name': [['None'],\n",
       "  ['\\xe9\\x9f\\x93\\xe5\\x9c\\x8b\\xe4\\xbb\\xa3\\xe8\\xb3\\xbc\\xe2\\x80\\xa7\\xe9\\xa0\\x90\\xe8\\xb3\\xbc\\xe2\\x80\\xa7\\xe6\\xbc\\x82\\xe4\\xba\\xae\\xe9\\xad\\x85\\xe5\\x8a\\x9b\\xe8\\x95\\xbe\\xe7\\xb5\\xb2\\xe9\\x87\\x9d\\xe7\\xb9\\x94\\xe8\\xa1\\xab[2\\xe8\\x89\\xb2]'],\n",
       "  ['None'],\n",
       "  ['None'],\n",
       "  ['None'],\n",
       "  ['None'],\n",
       "  ['None'],\n",
       "  ['None'],\n",
       "  ['None'],\n",
       "  ['None'],\n",
       "  ['None'],\n",
       "  ['None'],\n",
       "  ['None'],\n",
       "  ['None'],\n",
       "  ['None'],\n",
       "  ['None'],\n",
       "  ['None'],\n",
       "  ['None'],\n",
       "  ['None'],\n",
       "  ['None'],\n",
       "  ['None']],\n",
       " 'Price': [['None'],\n",
       "  ['1560\\xe5\\x85\\x83'],\n",
       "  ['None'],\n",
       "  ['None'],\n",
       "  ['None'],\n",
       "  ['None'],\n",
       "  ['None'],\n",
       "  ['None'],\n",
       "  ['None'],\n",
       "  ['None'],\n",
       "  ['None'],\n",
       "  ['None'],\n",
       "  ['None'],\n",
       "  ['None'],\n",
       "  ['None'],\n",
       "  ['None'],\n",
       "  ['None'],\n",
       "  ['None'],\n",
       "  ['None'],\n",
       "  ['None'],\n",
       "  ['None']],\n",
       " 'Url': ['http://tw.mall.yahoo.com/item/p099085911604',\n",
       "  'http://tw.mall.yahoo.com/item/p099090234176',\n",
       "  'http://tw.mall.yahoo.com/item/p099081806040',\n",
       "  'http://tw.mall.yahoo.com/item/p099082997910',\n",
       "  'http://tw.mall.yahoo.com/item/p099083239364',\n",
       "  'http://tw.mall.yahoo.com/item/p099084749554',\n",
       "  'http://tw.mall.yahoo.com/item/p099070613145',\n",
       "  'http://tw.mall.yahoo.com/item/p099076416423',\n",
       "  'http://tw.mall.yahoo.com/item/p099078747369',\n",
       "  'http://tw.mall.yahoo.com/item/p099069432260',\n",
       "  'http://tw.mall.yahoo.com/item/p099072935543',\n",
       "  'http://tw.mall.yahoo.com/item/p099071483551',\n",
       "  'http://tw.mall.yahoo.com/item/p099071555393',\n",
       "  'http://tw.mall.yahoo.com/item/p099069914319',\n",
       "  'http://tw.mall.yahoo.com/item/p099067692047',\n",
       "  'http://tw.mall.yahoo.com/item/p099068953930',\n",
       "  'http://tw.mall.yahoo.com/item/p099069432336',\n",
       "  'http://tw.mall.yahoo.com/item/p099070179614',\n",
       "  'http://tw.mall.yahoo.com/item/p099069108075',\n",
       "  'http://tw.mall.yahoo.com/item/p099067687983',\n",
       "  'http://tw.mall.yahoo.com/item/p099066801271']}"
      ]
     },
     "execution_count": 97,
     "metadata": {},
     "output_type": "execute_result"
    }
   ],
   "source": [
    "gettable1(pd_urls[0])"
   ]
  },
  {
   "cell_type": "code",
   "execution_count": 98,
   "metadata": {
    "collapsed": false
   },
   "outputs": [
    {
     "data": {
      "text/plain": [
       "['http://tw.mall.yahoo.com/item/p099085911604',\n",
       " 'http://tw.mall.yahoo.com/item/p099090234176',\n",
       " 'http://tw.mall.yahoo.com/item/p099081806040',\n",
       " 'http://tw.mall.yahoo.com/item/p099082997910',\n",
       " 'http://tw.mall.yahoo.com/item/p099083239364',\n",
       " 'http://tw.mall.yahoo.com/item/p099084749554',\n",
       " 'http://tw.mall.yahoo.com/item/p099070613145',\n",
       " 'http://tw.mall.yahoo.com/item/p099076416423',\n",
       " 'http://tw.mall.yahoo.com/item/p099078747369',\n",
       " 'http://tw.mall.yahoo.com/item/p099069432260',\n",
       " 'http://tw.mall.yahoo.com/item/p099072935543',\n",
       " 'http://tw.mall.yahoo.com/item/p099071483551',\n",
       " 'http://tw.mall.yahoo.com/item/p099071555393',\n",
       " 'http://tw.mall.yahoo.com/item/p099069914319',\n",
       " 'http://tw.mall.yahoo.com/item/p099067692047',\n",
       " 'http://tw.mall.yahoo.com/item/p099068953930',\n",
       " 'http://tw.mall.yahoo.com/item/p099069432336',\n",
       " 'http://tw.mall.yahoo.com/item/p099070179614',\n",
       " 'http://tw.mall.yahoo.com/item/p099069108075',\n",
       " 'http://tw.mall.yahoo.com/item/p099067687983',\n",
       " 'http://tw.mall.yahoo.com/item/p099066801271']"
      ]
     },
     "execution_count": 98,
     "metadata": {},
     "output_type": "execute_result"
    }
   ],
   "source": [
    "pd_urls"
   ]
  },
  {
   "cell_type": "code",
   "execution_count": 107,
   "metadata": {
    "collapsed": false
   },
   "outputs": [],
   "source": [
    "\n",
    "df1 = pd.DataFrame(gettable1(pd_urls))\n",
    "\n",
    "#df1 = pd.DataFrame(dic_t1['Name'], dic_t1['Price'])\n",
    "#df1\n"
   ]
  },
  {
   "cell_type": "code",
   "execution_count": 108,
   "metadata": {
    "collapsed": false
   },
   "outputs": [
    {
     "data": {
      "text/html": [
       "<div>\n",
       "<table border=\"1\" class=\"dataframe\">\n",
       "  <thead>\n",
       "    <tr style=\"text-align: right;\">\n",
       "      <th></th>\n",
       "      <th>Name</th>\n",
       "      <th>Price</th>\n",
       "      <th>Url</th>\n",
       "    </tr>\n",
       "  </thead>\n",
       "  <tbody>\n",
       "    <tr>\n",
       "      <th>0</th>\n",
       "      <td>[None]</td>\n",
       "      <td>[None]</td>\n",
       "      <td>http://tw.mall.yahoo.com/item/p099085911604</td>\n",
       "    </tr>\n",
       "    <tr>\n",
       "      <th>1</th>\n",
       "      <td>[韓國代購‧預購‧漂亮魅力蕾絲針織衫[2色]]</td>\n",
       "      <td>[1560元]</td>\n",
       "      <td>http://tw.mall.yahoo.com/item/p099090234176</td>\n",
       "    </tr>\n",
       "    <tr>\n",
       "      <th>2</th>\n",
       "      <td>[None]</td>\n",
       "      <td>[None]</td>\n",
       "      <td>http://tw.mall.yahoo.com/item/p099081806040</td>\n",
       "    </tr>\n",
       "    <tr>\n",
       "      <th>3</th>\n",
       "      <td>[None]</td>\n",
       "      <td>[None]</td>\n",
       "      <td>http://tw.mall.yahoo.com/item/p099082997910</td>\n",
       "    </tr>\n",
       "    <tr>\n",
       "      <th>4</th>\n",
       "      <td>[None]</td>\n",
       "      <td>[None]</td>\n",
       "      <td>http://tw.mall.yahoo.com/item/p099083239364</td>\n",
       "    </tr>\n",
       "    <tr>\n",
       "      <th>5</th>\n",
       "      <td>[None]</td>\n",
       "      <td>[None]</td>\n",
       "      <td>http://tw.mall.yahoo.com/item/p099084749554</td>\n",
       "    </tr>\n",
       "    <tr>\n",
       "      <th>6</th>\n",
       "      <td>[None]</td>\n",
       "      <td>[None]</td>\n",
       "      <td>http://tw.mall.yahoo.com/item/p099070613145</td>\n",
       "    </tr>\n",
       "    <tr>\n",
       "      <th>7</th>\n",
       "      <td>[None]</td>\n",
       "      <td>[None]</td>\n",
       "      <td>http://tw.mall.yahoo.com/item/p099076416423</td>\n",
       "    </tr>\n",
       "    <tr>\n",
       "      <th>8</th>\n",
       "      <td>[None]</td>\n",
       "      <td>[None]</td>\n",
       "      <td>http://tw.mall.yahoo.com/item/p099078747369</td>\n",
       "    </tr>\n",
       "    <tr>\n",
       "      <th>9</th>\n",
       "      <td>[None]</td>\n",
       "      <td>[None]</td>\n",
       "      <td>http://tw.mall.yahoo.com/item/p099069432260</td>\n",
       "    </tr>\n",
       "    <tr>\n",
       "      <th>10</th>\n",
       "      <td>[None]</td>\n",
       "      <td>[None]</td>\n",
       "      <td>http://tw.mall.yahoo.com/item/p099072935543</td>\n",
       "    </tr>\n",
       "    <tr>\n",
       "      <th>11</th>\n",
       "      <td>[None]</td>\n",
       "      <td>[None]</td>\n",
       "      <td>http://tw.mall.yahoo.com/item/p099071483551</td>\n",
       "    </tr>\n",
       "    <tr>\n",
       "      <th>12</th>\n",
       "      <td>[None]</td>\n",
       "      <td>[None]</td>\n",
       "      <td>http://tw.mall.yahoo.com/item/p099071555393</td>\n",
       "    </tr>\n",
       "    <tr>\n",
       "      <th>13</th>\n",
       "      <td>[None]</td>\n",
       "      <td>[None]</td>\n",
       "      <td>http://tw.mall.yahoo.com/item/p099069914319</td>\n",
       "    </tr>\n",
       "    <tr>\n",
       "      <th>14</th>\n",
       "      <td>[None]</td>\n",
       "      <td>[None]</td>\n",
       "      <td>http://tw.mall.yahoo.com/item/p099067692047</td>\n",
       "    </tr>\n",
       "    <tr>\n",
       "      <th>15</th>\n",
       "      <td>[None]</td>\n",
       "      <td>[None]</td>\n",
       "      <td>http://tw.mall.yahoo.com/item/p099068953930</td>\n",
       "    </tr>\n",
       "    <tr>\n",
       "      <th>16</th>\n",
       "      <td>[None]</td>\n",
       "      <td>[None]</td>\n",
       "      <td>http://tw.mall.yahoo.com/item/p099069432336</td>\n",
       "    </tr>\n",
       "    <tr>\n",
       "      <th>17</th>\n",
       "      <td>[None]</td>\n",
       "      <td>[None]</td>\n",
       "      <td>http://tw.mall.yahoo.com/item/p099070179614</td>\n",
       "    </tr>\n",
       "    <tr>\n",
       "      <th>18</th>\n",
       "      <td>[None]</td>\n",
       "      <td>[None]</td>\n",
       "      <td>http://tw.mall.yahoo.com/item/p099069108075</td>\n",
       "    </tr>\n",
       "    <tr>\n",
       "      <th>19</th>\n",
       "      <td>[None]</td>\n",
       "      <td>[None]</td>\n",
       "      <td>http://tw.mall.yahoo.com/item/p099067687983</td>\n",
       "    </tr>\n",
       "    <tr>\n",
       "      <th>20</th>\n",
       "      <td>[None]</td>\n",
       "      <td>[None]</td>\n",
       "      <td>http://tw.mall.yahoo.com/item/p099066801271</td>\n",
       "    </tr>\n",
       "  </tbody>\n",
       "</table>\n",
       "</div>"
      ],
      "text/plain": [
       "                       Name    Price  \\\n",
       "0                    [None]   [None]   \n",
       "1   [韓國代購‧預購‧漂亮魅力蕾絲針織衫[2色]]  [1560元]   \n",
       "2                    [None]   [None]   \n",
       "3                    [None]   [None]   \n",
       "4                    [None]   [None]   \n",
       "5                    [None]   [None]   \n",
       "6                    [None]   [None]   \n",
       "7                    [None]   [None]   \n",
       "8                    [None]   [None]   \n",
       "9                    [None]   [None]   \n",
       "10                   [None]   [None]   \n",
       "11                   [None]   [None]   \n",
       "12                   [None]   [None]   \n",
       "13                   [None]   [None]   \n",
       "14                   [None]   [None]   \n",
       "15                   [None]   [None]   \n",
       "16                   [None]   [None]   \n",
       "17                   [None]   [None]   \n",
       "18                   [None]   [None]   \n",
       "19                   [None]   [None]   \n",
       "20                   [None]   [None]   \n",
       "\n",
       "                                            Url  \n",
       "0   http://tw.mall.yahoo.com/item/p099085911604  \n",
       "1   http://tw.mall.yahoo.com/item/p099090234176  \n",
       "2   http://tw.mall.yahoo.com/item/p099081806040  \n",
       "3   http://tw.mall.yahoo.com/item/p099082997910  \n",
       "4   http://tw.mall.yahoo.com/item/p099083239364  \n",
       "5   http://tw.mall.yahoo.com/item/p099084749554  \n",
       "6   http://tw.mall.yahoo.com/item/p099070613145  \n",
       "7   http://tw.mall.yahoo.com/item/p099076416423  \n",
       "8   http://tw.mall.yahoo.com/item/p099078747369  \n",
       "9   http://tw.mall.yahoo.com/item/p099069432260  \n",
       "10  http://tw.mall.yahoo.com/item/p099072935543  \n",
       "11  http://tw.mall.yahoo.com/item/p099071483551  \n",
       "12  http://tw.mall.yahoo.com/item/p099071555393  \n",
       "13  http://tw.mall.yahoo.com/item/p099069914319  \n",
       "14  http://tw.mall.yahoo.com/item/p099067692047  \n",
       "15  http://tw.mall.yahoo.com/item/p099068953930  \n",
       "16  http://tw.mall.yahoo.com/item/p099069432336  \n",
       "17  http://tw.mall.yahoo.com/item/p099070179614  \n",
       "18  http://tw.mall.yahoo.com/item/p099069108075  \n",
       "19  http://tw.mall.yahoo.com/item/p099067687983  \n",
       "20  http://tw.mall.yahoo.com/item/p099066801271  "
      ]
     },
     "execution_count": 108,
     "metadata": {},
     "output_type": "execute_result"
    }
   ],
   "source": [
    "df1"
   ]
  },
  {
   "cell_type": "code",
   "execution_count": 61,
   "metadata": {
    "collapsed": false
   },
   "outputs": [
    {
     "data": {
      "text/plain": [
       "[]"
      ]
     },
     "execution_count": 61,
     "metadata": {},
     "output_type": "execute_result"
    }
   ],
   "source": [
    "#//div[@id='yui_3_12_0_2_1447591025203_39']/div[@id='ypsal']/div[@id='yui_3_12_0_2_1447591025203_38']/div[@id='yui_3_12_0_2_1447591025203_37']/div[@id='yui_3_12_0_2_1447591025203_36']/div[@id='yui_3_12_0_2_1447591025203_35']/table[@id='yui_3_12_0_2_1447591025203_34']/tbody[@id='yui_3_12_0_2_1447591025203_33']/tr\n",
    "url = \"https://tw.user.mall.yahoo.com/rating/list?sid=a74226&s=&b=5\"\n",
    "res = requests.get(url)\n",
    "doc = etree.HTML(res.text)\n",
    "#print res.text\n",
    "node = doc.xpath(\"/html/body/div/div/div/div/div/div/div/div/div/div/div/table[1]//tr[position()>0]\")\n",
    "#print node\n",
    "elem = node[0]\n",
    "elem.xpath('./td//dl[@class=\"comment\"]')\n",
    "\n",
    "f = open(\"result.html\",\"w\")\n",
    "f.write(res.text)\n",
    "f.close()"
   ]
  },
  {
   "cell_type": "code",
   "execution_count": 40,
   "metadata": {
    "collapsed": false
   },
   "outputs": [],
   "source": [
    "#fix: get rev too\n",
    "#get table : product url, ID, rating, time\n",
    "# input rating page urls\n",
    "dic_t2 = {}\n",
    "dic_t2[\"Url\"] = []\n",
    "dic_t2[\"user\"] = []\n",
    "dic_t2[\"rate\"] = []\n",
    "dic_t2[\"time\"] = []\n",
    "\n",
    "def gettable2(url):\n",
    "    #global dic_t2\n",
    "    urls = []\n",
    "    for i in url: \n",
    "        res = requests.get(i)\n",
    "        doc = etree.HTML(res.text)\n",
    "        node = doc.xpath(\"/html/body/div/div/div/div/div/div/div/div/div/div/div/table[1]//tr[position()>0]\")\n",
    "        #print node\n",
    "        for elem in node:\n",
    "            e_url = elem.xpath(\"./td[2]//a/@href\")\n",
    "            e_user = elem.xpath(\"./td[3]//text()\")[0]\n",
    "            e_rate = elem.xpath(\"./td[1]/em/text()\")\n",
    "            e_time = elem.xpath(\"./th//text()\")[0]\n",
    "            for u in e_url:\n",
    "                print u\n",
    "                if u !=\"#\":\n",
    "                    dic_t2[\"Url\"].append(u)\n",
    "                    dic_t2[\"user\"].append(e_user)\n",
    "                    dic_t2[\"rate\"].append(e_rate)\n",
    "                    dic_t2[\"time\"].append(e_time)\n",
    "                    #print u,e_user,e_time\n",
    "    return dic_t2\n"
   ]
  },
  {
   "cell_type": "code",
   "execution_count": 41,
   "metadata": {
    "collapsed": false
   },
   "outputs": [],
   "source": [
    "urls = [\"https://tw.user.mall.yahoo.com/rating/list?sid=mina_shop&s=&b=1\"]"
   ]
  },
  {
   "cell_type": "code",
   "execution_count": 42,
   "metadata": {
    "collapsed": false
   },
   "outputs": [
    {
     "name": "stdout",
     "output_type": "stream",
     "text": [
      "http://tw.mall.yahoo.com/item/p099085911604\n",
      "http://tw.mall.yahoo.com/item/p099090234176\n",
      "#\n",
      "http://tw.mall.yahoo.com/item/p099081806040\n",
      "http://tw.mall.yahoo.com/item/p099082997910\n",
      "http://tw.mall.yahoo.com/item/p099083239364\n",
      "#\n",
      "http://tw.mall.yahoo.com/item/p099084749554\n",
      "http://tw.mall.yahoo.com/item/p099070613145\n",
      "http://tw.mall.yahoo.com/item/p099076416423\n",
      "http://tw.mall.yahoo.com/item/p099078747369\n",
      "#\n",
      "http://tw.mall.yahoo.com/item/p099069432260\n",
      "http://tw.mall.yahoo.com/item/p099072935543\n",
      "http://tw.mall.yahoo.com/item/p099071483551\n",
      "http://tw.mall.yahoo.com/item/p099071555393\n",
      "#\n",
      "http://tw.mall.yahoo.com/item/p099069914319\n"
     ]
    },
    {
     "data": {
      "text/html": [
       "<div>\n",
       "<table border=\"1\" class=\"dataframe\">\n",
       "  <thead>\n",
       "    <tr style=\"text-align: right;\">\n",
       "      <th></th>\n",
       "      <th>Url</th>\n",
       "      <th>rate</th>\n",
       "      <th>time</th>\n",
       "      <th>user</th>\n",
       "    </tr>\n",
       "  </thead>\n",
       "  <tbody>\n",
       "    <tr>\n",
       "      <th>0</th>\n",
       "      <td>http://tw.mall.yahoo.com/item/p099085911604</td>\n",
       "      <td>[8.3]</td>\n",
       "      <td>2015/12/17</td>\n",
       "      <td>huil****</td>\n",
       "    </tr>\n",
       "    <tr>\n",
       "      <th>1</th>\n",
       "      <td>http://tw.mall.yahoo.com/item/p099090234176</td>\n",
       "      <td>[8.3]</td>\n",
       "      <td>2015/12/17</td>\n",
       "      <td>huil****</td>\n",
       "    </tr>\n",
       "    <tr>\n",
       "      <th>2</th>\n",
       "      <td>http://tw.mall.yahoo.com/item/p099081806040</td>\n",
       "      <td>[10.0]</td>\n",
       "      <td>2015/11/08</td>\n",
       "      <td>jsnc****</td>\n",
       "    </tr>\n",
       "    <tr>\n",
       "      <th>3</th>\n",
       "      <td>http://tw.mall.yahoo.com/item/p099082997910</td>\n",
       "      <td>[10.0]</td>\n",
       "      <td>2015/11/08</td>\n",
       "      <td>jsnc****</td>\n",
       "    </tr>\n",
       "    <tr>\n",
       "      <th>4</th>\n",
       "      <td>http://tw.mall.yahoo.com/item/p099083239364</td>\n",
       "      <td>[10.0]</td>\n",
       "      <td>2015/11/08</td>\n",
       "      <td>jsnc****</td>\n",
       "    </tr>\n",
       "    <tr>\n",
       "      <th>5</th>\n",
       "      <td>http://tw.mall.yahoo.com/item/p099084749554</td>\n",
       "      <td>[7.0]</td>\n",
       "      <td>2015/10/09</td>\n",
       "      <td>huil****</td>\n",
       "    </tr>\n",
       "    <tr>\n",
       "      <th>6</th>\n",
       "      <td>http://tw.mall.yahoo.com/item/p099070613145</td>\n",
       "      <td>[10.0]</td>\n",
       "      <td>2015/08/01</td>\n",
       "      <td>e048****</td>\n",
       "    </tr>\n",
       "    <tr>\n",
       "      <th>7</th>\n",
       "      <td>http://tw.mall.yahoo.com/item/p099076416423</td>\n",
       "      <td>[8.0]</td>\n",
       "      <td>2015/07/23</td>\n",
       "      <td>huil****</td>\n",
       "    </tr>\n",
       "    <tr>\n",
       "      <th>8</th>\n",
       "      <td>http://tw.mall.yahoo.com/item/p099078747369</td>\n",
       "      <td>[8.0]</td>\n",
       "      <td>2015/07/23</td>\n",
       "      <td>huil****</td>\n",
       "    </tr>\n",
       "    <tr>\n",
       "      <th>9</th>\n",
       "      <td>http://tw.mall.yahoo.com/item/p099069432260</td>\n",
       "      <td>[5.7]</td>\n",
       "      <td>2015/06/17</td>\n",
       "      <td>wacw****</td>\n",
       "    </tr>\n",
       "    <tr>\n",
       "      <th>10</th>\n",
       "      <td>http://tw.mall.yahoo.com/item/p099072935543</td>\n",
       "      <td>[10.0]</td>\n",
       "      <td>2015/06/11</td>\n",
       "      <td>jsnc****</td>\n",
       "    </tr>\n",
       "    <tr>\n",
       "      <th>11</th>\n",
       "      <td>http://tw.mall.yahoo.com/item/p099071483551</td>\n",
       "      <td>[7.3]</td>\n",
       "      <td>2015/06/04</td>\n",
       "      <td>huil****</td>\n",
       "    </tr>\n",
       "    <tr>\n",
       "      <th>12</th>\n",
       "      <td>http://tw.mall.yahoo.com/item/p099071555393</td>\n",
       "      <td>[10.0]</td>\n",
       "      <td>2015/04/27</td>\n",
       "      <td>tsen****</td>\n",
       "    </tr>\n",
       "    <tr>\n",
       "      <th>13</th>\n",
       "      <td>http://tw.mall.yahoo.com/item/p099069914319</td>\n",
       "      <td>[4.7]</td>\n",
       "      <td>2015/04/21</td>\n",
       "      <td>shiu****</td>\n",
       "    </tr>\n",
       "  </tbody>\n",
       "</table>\n",
       "</div>"
      ],
      "text/plain": [
       "                                            Url    rate        time      user\n",
       "0   http://tw.mall.yahoo.com/item/p099085911604   [8.3]  2015/12/17  huil****\n",
       "1   http://tw.mall.yahoo.com/item/p099090234176   [8.3]  2015/12/17  huil****\n",
       "2   http://tw.mall.yahoo.com/item/p099081806040  [10.0]  2015/11/08  jsnc****\n",
       "3   http://tw.mall.yahoo.com/item/p099082997910  [10.0]  2015/11/08  jsnc****\n",
       "4   http://tw.mall.yahoo.com/item/p099083239364  [10.0]  2015/11/08  jsnc****\n",
       "5   http://tw.mall.yahoo.com/item/p099084749554   [7.0]  2015/10/09  huil****\n",
       "6   http://tw.mall.yahoo.com/item/p099070613145  [10.0]  2015/08/01  e048****\n",
       "7   http://tw.mall.yahoo.com/item/p099076416423   [8.0]  2015/07/23  huil****\n",
       "8   http://tw.mall.yahoo.com/item/p099078747369   [8.0]  2015/07/23  huil****\n",
       "9   http://tw.mall.yahoo.com/item/p099069432260   [5.7]  2015/06/17  wacw****\n",
       "10  http://tw.mall.yahoo.com/item/p099072935543  [10.0]  2015/06/11  jsnc****\n",
       "11  http://tw.mall.yahoo.com/item/p099071483551   [7.3]  2015/06/04  huil****\n",
       "12  http://tw.mall.yahoo.com/item/p099071555393  [10.0]  2015/04/27  tsen****\n",
       "13  http://tw.mall.yahoo.com/item/p099069914319   [4.7]  2015/04/21  shiu****"
      ]
     },
     "execution_count": 42,
     "metadata": {},
     "output_type": "execute_result"
    }
   ],
   "source": [
    "\n",
    "df2 = pd.DataFrame(gettable2(urls))\n",
    "df2"
   ]
  },
  {
   "cell_type": "code",
   "execution_count": 67,
   "metadata": {
    "collapsed": false
   },
   "outputs": [
    {
     "ename": "NameError",
     "evalue": "name 'df1' is not defined",
     "output_type": "error",
     "traceback": [
      "\u001b[0;31m---------------------------------------------------------------------------\u001b[0m",
      "\u001b[0;31mNameError\u001b[0m                                 Traceback (most recent call last)",
      "\u001b[0;32m<ipython-input-67-e264c4838248>\u001b[0m in \u001b[0;36m<module>\u001b[0;34m()\u001b[0m\n\u001b[1;32m      2\u001b[0m \u001b[0;31m#pd.merge(df1, df2)\u001b[0m\u001b[0;34m\u001b[0m\u001b[0;34m\u001b[0m\u001b[0m\n\u001b[1;32m      3\u001b[0m \u001b[0mdf2_2\u001b[0m \u001b[0;34m=\u001b[0m \u001b[0mdf2\u001b[0m\u001b[0;34m.\u001b[0m\u001b[0mdrop\u001b[0m\u001b[0;34m(\u001b[0m\u001b[0mdf2\u001b[0m\u001b[0;34m.\u001b[0m\u001b[0mcolumns\u001b[0m\u001b[0;34m[\u001b[0m\u001b[0;34m[\u001b[0m\u001b[0;36m0\u001b[0m\u001b[0;34m]\u001b[0m\u001b[0;34m]\u001b[0m\u001b[0;34m,\u001b[0m \u001b[0maxis\u001b[0m \u001b[0;34m=\u001b[0m \u001b[0;36m1\u001b[0m\u001b[0;34m)\u001b[0m\u001b[0;34m\u001b[0m\u001b[0m\n\u001b[0;32m----> 4\u001b[0;31m \u001b[0mdf12\u001b[0m \u001b[0;34m=\u001b[0m \u001b[0mpd\u001b[0m\u001b[0;34m.\u001b[0m\u001b[0mconcat\u001b[0m\u001b[0;34m(\u001b[0m\u001b[0;34m[\u001b[0m\u001b[0mdf1\u001b[0m\u001b[0;34m,\u001b[0m \u001b[0mdf2_2\u001b[0m\u001b[0;34m]\u001b[0m\u001b[0;34m,\u001b[0m \u001b[0maxis\u001b[0m\u001b[0;34m=\u001b[0m\u001b[0;36m1\u001b[0m\u001b[0;34m)\u001b[0m\u001b[0;34m\u001b[0m\u001b[0m\n\u001b[0m\u001b[1;32m      5\u001b[0m \u001b[0mdf12\u001b[0m\u001b[0;34m\u001b[0m\u001b[0m\n\u001b[1;32m      6\u001b[0m \u001b[0;31m#df23.drop(df23.columns[[]], axis=1)\u001b[0m\u001b[0;34m\u001b[0m\u001b[0;34m\u001b[0m\u001b[0m\n",
      "\u001b[0;31mNameError\u001b[0m: name 'df1' is not defined"
     ]
    }
   ],
   "source": [
    "\n",
    "#pd.merge(df1, df2)\n",
    "df2_2 = df2.drop(df2.columns[[0]], axis = 1)\n",
    "df12 = pd.concat([df1, df2_2], axis=1)\n",
    "df12\n",
    "#df23.drop(df23.columns[[]], axis=1)"
   ]
  },
  {
   "cell_type": "code",
   "execution_count": 131,
   "metadata": {
    "collapsed": false
   },
   "outputs": [],
   "source": [
    "urls = [\"https://tw.user.mall.yahoo.com/rating/list?sid=a74226&s=&b=\" + str(i+1) for i in range(1)]\n",
    "\n",
    "# talbe 3: ID, rating, date, rev, rep\n",
    "\n",
    "def gettable3(urls):\n",
    "    dic_t3 = {}\n",
    "    dic_t3[\"ID\"] = []\n",
    "    dic_t3[\"Rating\"] = []\n",
    "    dic_t3[\"Date\"] = [] \n",
    "    dic_t3[\"Review\"] = []\n",
    "    dic_t3[\"Reply\"] = [] \n",
    "    for url in urls:\n",
    "        res = requests.get(url)\n",
    "        doc = etree.HTML(res.text)\n",
    "        node = doc.xpath(\"/html/body/div/div/div/div/div/div/div/div/div/div/div/table[1]/tbody//tr\")\n",
    "        \n",
    "        # get data from xpath\n",
    "        e_id = doc.xpath(\"//tbody/*/td[3]/text()\") \n",
    "        e_rt = doc.xpath(\"//tbody/*/td[@class='levelblk']/em[@class='store']/text()\")\n",
    "        e_dt = doc.xpath(\"//table[@class='listtable']/tbody/tr[*]/th/text()\")\n",
    "        # encode to get chinese\n",
    "        e_rv = doc.xpath(\"//ul[@class='reply']/li[@class='firstrep clearfix']/dl[@class='comment']/dd/text()\")\n",
    "        e_rv = [x.encode('utf-8') for x in e_rv]\n",
    "        e_rv_ch = e_rv\n",
    "        \n",
    "        e_rp = []\n",
    "        for elem in node:\n",
    "            e_rp_elem = \" \".join(elem.xpath(\"./td[2]//ul[@class='reply']//dl[@class='revert']//text()\"))\n",
    "            e_rp.append(e_rp_elem)\n",
    "    \n",
    "\n",
    "        #### 檢查一下這些東西的長度\n",
    "        print len(e_id)\n",
    "        #print len(e_rt)\n",
    "        #print len(e_dt)\n",
    "        #print len(e_rv_ch)\n",
    "        #print len(e_rp_ch)\n",
    "    \n",
    "        for i, r, d, v, p in zip(e_id, e_rt, e_dt, e_rv_ch, e_rp) :\n",
    "            dic_t3[\"ID\"].append(i)\n",
    "            dic_t3[\"Rating\"].append(r)\n",
    "            dic_t3[\"Date\"].append(d)\n",
    "            dic_t3[\"Review\"].append(v)\n",
    "            dic_t3[\"Reply\"].append(p)\n",
    "    return dic_t3\n",
    "        #time.sleep(2*random.random())"
   ]
  },
  {
   "cell_type": "code",
   "execution_count": null,
   "metadata": {
    "collapsed": true
   },
   "outputs": [],
   "source": []
  },
  {
   "cell_type": "code",
   "execution_count": 132,
   "metadata": {
    "collapsed": false
   },
   "outputs": [
    {
     "data": {
      "text/plain": [
       "['https://tw.user.mall.yahoo.com/rating/list?sid=a74226&s=&b=1']"
      ]
     },
     "execution_count": 132,
     "metadata": {},
     "output_type": "execute_result"
    }
   ],
   "source": [
    "urls"
   ]
  },
  {
   "cell_type": "code",
   "execution_count": 134,
   "metadata": {
    "collapsed": false
   },
   "outputs": [
    {
     "name": "stdout",
     "output_type": "stream",
     "text": [
      "10\n"
     ]
    },
    {
     "data": {
      "text/html": [
       "<div>\n",
       "<table border=\"1\" class=\"dataframe\">\n",
       "  <thead>\n",
       "    <tr style=\"text-align: right;\">\n",
       "      <th></th>\n",
       "      <th>Date</th>\n",
       "      <th>ID</th>\n",
       "      <th>Rating</th>\n",
       "      <th>Reply</th>\n",
       "      <th>Review</th>\n",
       "    </tr>\n",
       "  </thead>\n",
       "  <tbody>\n",
       "    <tr>\n",
       "      <th>0</th>\n",
       "      <td>2015/12/08</td>\n",
       "      <td>st66****</td>\n",
       "      <td>8.7</td>\n",
       "      <td></td>\n",
       "      <td>收到貨了~謝謝</td>\n",
       "    </tr>\n",
       "    <tr>\n",
       "      <th>1</th>\n",
       "      <td>2015/12/08</td>\n",
       "      <td>tn00****</td>\n",
       "      <td>7.0</td>\n",
       "      <td>回覆： 買家您好:感謝您的支持^_^，您真是個好買家~~~賣場每週五都會有新品上架，歡迎有空...</td>\n",
       "      <td>出貨速度很快</td>\n",
       "    </tr>\n",
       "    <tr>\n",
       "      <th>2</th>\n",
       "      <td>2015/12/08</td>\n",
       "      <td>stro****</td>\n",
       "      <td>9.0</td>\n",
       "      <td>回覆： 買家您好：您真是個好買家，謝謝您的支持，賣場每週五都有新品上架，歡迎您有空記得回來逛...</td>\n",
       "      <td>非常好的賣家</td>\n",
       "    </tr>\n",
       "    <tr>\n",
       "      <th>3</th>\n",
       "      <td>2015/12/08</td>\n",
       "      <td>op92****</td>\n",
       "      <td>8.0</td>\n",
       "      <td>回覆： 買家您好：您真是個好買家，謝謝您的支持，賣場每週五都有新品上架，歡迎您有空記得回來逛...</td>\n",
       "      <td>OK ， 值得回流</td>\n",
       "    </tr>\n",
       "    <tr>\n",
       "      <th>4</th>\n",
       "      <td>2015/12/08</td>\n",
       "      <td>qazw****</td>\n",
       "      <td>10.0</td>\n",
       "      <td>回覆： 買家您好：您真是個好買家，謝謝您的支持，賣場每週五都有新品上架，歡迎您有空記得回來逛...</td>\n",
       "      <td>.</td>\n",
       "    </tr>\n",
       "    <tr>\n",
       "      <th>5</th>\n",
       "      <td>2015/12/07</td>\n",
       "      <td>yusc****</td>\n",
       "      <td>10.0</td>\n",
       "      <td>回覆： 買家您好：您真是個好買家，謝謝您的支持，賣場每週五都有新品上架，歡迎您有空記得回來逛...</td>\n",
       "      <td>出貨快的好賣家</td>\n",
       "    </tr>\n",
       "    <tr>\n",
       "      <th>6</th>\n",
       "      <td>2015/12/07</td>\n",
       "      <td>qwe6****</td>\n",
       "      <td>10.0</td>\n",
       "      <td>回覆： 買家您好：您真是個好買家，謝謝您的支持，賣場每週五都有新品上架，歡迎您有空記得回來逛...</td>\n",
       "      <td>OKOK</td>\n",
       "    </tr>\n",
       "    <tr>\n",
       "      <th>7</th>\n",
       "      <td>2015/12/07</td>\n",
       "      <td>jyjy****</td>\n",
       "      <td>6.7</td>\n",
       "      <td>回覆： 買家您好：您真是個好買家，謝謝您的支持，賣場每週五都有新品上架，歡迎您有空記得回來逛...</td>\n",
       "      <td>整體還不錯</td>\n",
       "    </tr>\n",
       "    <tr>\n",
       "      <th>8</th>\n",
       "      <td>2015/12/07</td>\n",
       "      <td>jky5****</td>\n",
       "      <td>10.0</td>\n",
       "      <td>回覆： 買家您好:感謝您的支持^_^，您真是個好買家~~~賣場每週五都會有新品上架，歡迎有空...</td>\n",
       "      <td>專業用心的賣家!出貨快!謝謝</td>\n",
       "    </tr>\n",
       "    <tr>\n",
       "      <th>9</th>\n",
       "      <td>2015/12/07</td>\n",
       "      <td>jky5****</td>\n",
       "      <td>9.3</td>\n",
       "      <td>回覆： 買家您好：您真是個好買家，謝謝您的支持，賣場每週五都有新品上架，歡迎您有空記得回來逛...</td>\n",
       "      <td>專業用心的賣家!出貨快!謝謝</td>\n",
       "    </tr>\n",
       "  </tbody>\n",
       "</table>\n",
       "</div>"
      ],
      "text/plain": [
       "         Date        ID Rating  \\\n",
       "0  2015/12/08  st66****    8.7   \n",
       "1  2015/12/08  tn00****    7.0   \n",
       "2  2015/12/08  stro****    9.0   \n",
       "3  2015/12/08  op92****    8.0   \n",
       "4  2015/12/08  qazw****   10.0   \n",
       "5  2015/12/07  yusc****   10.0   \n",
       "6  2015/12/07  qwe6****   10.0   \n",
       "7  2015/12/07  jyjy****    6.7   \n",
       "8  2015/12/07  jky5****   10.0   \n",
       "9  2015/12/07  jky5****    9.3   \n",
       "\n",
       "                                               Reply          Review  \n",
       "0                                                            收到貨了~謝謝  \n",
       "1  回覆： 買家您好:感謝您的支持^_^，您真是個好買家~~~賣場每週五都會有新品上架，歡迎有空...          出貨速度很快  \n",
       "2  回覆： 買家您好：您真是個好買家，謝謝您的支持，賣場每週五都有新品上架，歡迎您有空記得回來逛...          非常好的賣家  \n",
       "3  回覆： 買家您好：您真是個好買家，謝謝您的支持，賣場每週五都有新品上架，歡迎您有空記得回來逛...       OK ， 值得回流  \n",
       "4  回覆： 買家您好：您真是個好買家，謝謝您的支持，賣場每週五都有新品上架，歡迎您有空記得回來逛...               .  \n",
       "5  回覆： 買家您好：您真是個好買家，謝謝您的支持，賣場每週五都有新品上架，歡迎您有空記得回來逛...         出貨快的好賣家  \n",
       "6  回覆： 買家您好：您真是個好買家，謝謝您的支持，賣場每週五都有新品上架，歡迎您有空記得回來逛...            OKOK  \n",
       "7  回覆： 買家您好：您真是個好買家，謝謝您的支持，賣場每週五都有新品上架，歡迎您有空記得回來逛...           整體還不錯  \n",
       "8  回覆： 買家您好:感謝您的支持^_^，您真是個好買家~~~賣場每週五都會有新品上架，歡迎有空...  專業用心的賣家!出貨快!謝謝  \n",
       "9  回覆： 買家您好：您真是個好買家，謝謝您的支持，賣場每週五都有新品上架，歡迎您有空記得回來逛...  專業用心的賣家!出貨快!謝謝  "
      ]
     },
     "execution_count": 134,
     "metadata": {},
     "output_type": "execute_result"
    }
   ],
   "source": [
    "\n",
    "\n",
    "df3 = pd.DataFrame(gettable3(urls))\n",
    "df3"
   ]
  },
  {
   "cell_type": "code",
   "execution_count": 111,
   "metadata": {
    "collapsed": false
   },
   "outputs": [
    {
     "name": "stdout",
     "output_type": "stream",
     "text": [
      "[<Element tr at 0x10a14a8c0>, <Element tr at 0x10a14a440>, <Element tr at 0x10a162f80>, <Element tr at 0x10a143560>, <Element tr at 0x10a1503f8>, <Element tr at 0x10a150e60>, <Element tr at 0x10a154c20>, <Element tr at 0x10a154170>, <Element tr at 0x10a154488>, <Element tr at 0x10a1549e0>, <Element tr at 0x10a154d40>]\n",
      "26.0432538986\n"
     ]
    }
   ],
   "source": [
    "ts = time.time()\n",
    "\n",
    "\n",
    "urls = [\"https://tw.user.mall.yahoo.com/rating/list?sid=a74226&s=&b=\" + str(i+1) for i in range(1)]\n",
    "pd_urls = listproductUrls(urls)\n",
    "\n",
    "df1 = pd.DataFrame(gettable1(pd_urls))\n",
    "df2 = pd.DataFrame(gettable2(urls))\n",
    "df2_2 = df2.drop(df2.columns[[0]], axis = 1)\n",
    "df12 = pd.concat([df1, df2_2], axis=1)\n",
    "df3 = pd.DataFrame(dic_t3)\n",
    "\n",
    "ts2 = time.time()\n",
    "print ts2 - ts"
   ]
  },
  {
   "cell_type": "code",
   "execution_count": 113,
   "metadata": {
    "collapsed": false
   },
   "outputs": [
    {
     "data": {
      "text/plain": [
       "6.316666666666666"
      ]
     },
     "execution_count": 113,
     "metadata": {},
     "output_type": "execute_result"
    }
   ],
   "source": []
  },
  {
   "cell_type": "code",
   "execution_count": null,
   "metadata": {
    "collapsed": false
   },
   "outputs": [],
   "source": [
    "https://tw.user.mall.yahoo.com/rating/list?sid=s3"
   ]
  },
  {
   "cell_type": "code",
   "execution_count": null,
   "metadata": {
    "collapsed": false
   },
   "outputs": [],
   "source": [
    "https://tw.mall.yahoo.com/store/s3\n"
   ]
  },
  {
   "cell_type": "code",
   "execution_count": 59,
   "metadata": {
    "collapsed": false
   },
   "outputs": [],
   "source": [
    "def gettable4(url):\n",
    "    dic_t4 = {}\n",
    "    dic_t4[\"s_url\"] = []\n",
    "    dic_t4[\"sf\"] = []\n",
    "    dic_t4[\"sd\"] = []\n",
    "    dic_t4[\"rs\"] = []\n",
    "    dic_t4[\"ns\"] = []\n",
    "    dic_t4[\"nt\"] = []\n",
    "    dic_t4[\"pq\"] = []\n",
    "    dic_t4[\"ss\"] = []\n",
    "    dic_t4[\"os\"] = []\n",
    "    for i in url:\n",
    "        res = requests.get(i)\n",
    "        doc = etree.HTML(res.text)\n",
    "        sf = doc.xpath(\"//*/h4[1]/a/em/text()\")\n",
    "        sd = doc.xpath(\"//*/p/strong[1]/text()\")\n",
    "        rs = doc.xpath(\"//*/p/strong[2]/text()\")\n",
    "        ns = doc.xpath(\"//*/p/strong[3]/text()\")\n",
    "        #nt = doc.xpath(\"//html/body/div[2]/div[2]/div[2]/div[1]/div[1]/div[1]/div[1]/div[2]/div[1]/div[1]/div[1]/div[1]/div[1]/div[2]/div[1]/div[2]/text()\")\n",
    "        pq = doc.xpath(\"//*/dl/dd[1]/em/text()\")\n",
    "        ss = doc.xpath(\"//*/dl/dd[2]/em/text()\")\n",
    "        os = doc.xpath(\"//*/dl/dd[3]/em/text()\")\n",
    "        dic_t4[\"s_url\"].append(i)\n",
    "        dic_t4[\"sf\"].append(sf)\n",
    "        dic_t4[\"sd\"].append(sd)\n",
    "        dic_t4[\"rs\"].append(rs)\n",
    "        dic_t4[\"ns\"].append(ns)\n",
    "        dic_t4[\"nt\"].append(nt)\n",
    "        dic_t4[\"pq\"].append(pq)\n",
    "        dic_t4[\"ss\"].append(ss)\n",
    "        dic_t4[\"os\"].append(os)\n",
    "    return dic_t4\n",
    "        "
   ]
  },
  {
   "cell_type": "code",
   "execution_count": 62,
   "metadata": {
    "collapsed": false
   },
   "outputs": [
    {
     "data": {
      "text/plain": [
       "{'ns': [['20.0'], ['0.7']],\n",
       " 'nt': [[], []],\n",
       " 'os': [['8.2'], ['8.4']],\n",
       " 'pq': [['8.7'], ['8.3']],\n",
       " 'rs': [['2.2'], ['0.5']],\n",
       " 's_url': ['https://tw.user.mall.yahoo.com/rating/list?sid=mina_shop',\n",
       "  'https://tw.user.mall.yahoo.com/rating/list?sid=a74226'],\n",
       " 'sd': [['22.0'], ['4.4']],\n",
       " 'sf': [['8.0'], ['8.4']],\n",
       " 'ss': [['7.2'], ['8.3']]}"
      ]
     },
     "execution_count": 62,
     "metadata": {},
     "output_type": "execute_result"
    }
   ],
   "source": [
    "url = ['https://tw.user.mall.yahoo.com/rating/list?sid=mina_shop', 'https://tw.user.mall.yahoo.com/rating/list?sid=a74226']\n",
    "gettable4(url)"
   ]
  },
  {
   "cell_type": "code",
   "execution_count": 63,
   "metadata": {
    "collapsed": false
   },
   "outputs": [
    {
     "data": {
      "text/html": [
       "<div>\n",
       "<table border=\"1\" class=\"dataframe\">\n",
       "  <thead>\n",
       "    <tr style=\"text-align: right;\">\n",
       "      <th></th>\n",
       "      <th>ns</th>\n",
       "      <th>nt</th>\n",
       "      <th>os</th>\n",
       "      <th>pq</th>\n",
       "      <th>rs</th>\n",
       "      <th>s_url</th>\n",
       "      <th>sd</th>\n",
       "      <th>sf</th>\n",
       "      <th>ss</th>\n",
       "    </tr>\n",
       "  </thead>\n",
       "  <tbody>\n",
       "    <tr>\n",
       "      <th>0</th>\n",
       "      <td>[20.0]</td>\n",
       "      <td>[]</td>\n",
       "      <td>[8.2]</td>\n",
       "      <td>[8.7]</td>\n",
       "      <td>[2.2]</td>\n",
       "      <td>https://tw.user.mall.yahoo.com/rating/list?sid...</td>\n",
       "      <td>[22.0]</td>\n",
       "      <td>[8.0]</td>\n",
       "      <td>[7.2]</td>\n",
       "    </tr>\n",
       "    <tr>\n",
       "      <th>1</th>\n",
       "      <td>[0.7]</td>\n",
       "      <td>[]</td>\n",
       "      <td>[8.4]</td>\n",
       "      <td>[8.3]</td>\n",
       "      <td>[0.5]</td>\n",
       "      <td>https://tw.user.mall.yahoo.com/rating/list?sid...</td>\n",
       "      <td>[4.4]</td>\n",
       "      <td>[8.4]</td>\n",
       "      <td>[8.3]</td>\n",
       "    </tr>\n",
       "  </tbody>\n",
       "</table>\n",
       "</div>"
      ],
      "text/plain": [
       "       ns  nt     os     pq     rs  \\\n",
       "0  [20.0]  []  [8.2]  [8.7]  [2.2]   \n",
       "1   [0.7]  []  [8.4]  [8.3]  [0.5]   \n",
       "\n",
       "                                               s_url      sd     sf     ss  \n",
       "0  https://tw.user.mall.yahoo.com/rating/list?sid...  [22.0]  [8.0]  [7.2]  \n",
       "1  https://tw.user.mall.yahoo.com/rating/list?sid...   [4.4]  [8.4]  [8.3]  "
      ]
     },
     "execution_count": 63,
     "metadata": {},
     "output_type": "execute_result"
    }
   ],
   "source": [
    "pd.DataFrame(gettable4(url))"
   ]
  },
  {
   "cell_type": "code",
   "execution_count": 52,
   "metadata": {
    "collapsed": false
   },
   "outputs": [
    {
     "name": "stdout",
     "output_type": "stream",
     "text": [
      "['22.0']\n"
     ]
    }
   ],
   "source": [
    "print s_sd"
   ]
  },
  {
   "cell_type": "code",
   "execution_count": 137,
   "metadata": {
    "collapsed": false
   },
   "outputs": [
    {
     "name": "stdout",
     "output_type": "stream",
     "text": [
      "[u'\\n                \\u8fd1\\u4e00\\u9031\\u700f\\u89bd\\u6b21\\u6578\\uff1a456092            ']\n"
     ]
    }
   ],
   "source": [
    "url ='https://tw.user.mall.yahoo.com/rating/list?sid=watsons'\n",
    "res = requests.get(url)\n",
    "doc = etree.HTML(res.text)\n",
    "nt = doc.xpath(\"//div[@class='ftpane']//text()\")\n",
    "print nt"
   ]
  },
  {
   "cell_type": "code",
   "execution_count": null,
   "metadata": {
    "collapsed": true
   },
   "outputs": [],
   "source": [
    "f = open(\"output_r.html\",\"w\")\n",
    "f.write(res.text.encode(\"utf-8\"))\n",
    "f.close()"
   ]
  },
  {
   "cell_type": "code",
   "execution_count": 138,
   "metadata": {
    "collapsed": false
   },
   "outputs": [
    {
     "name": "stdout",
     "output_type": "stream",
     "text": [
      "\n",
      "                近一週瀏覽次數：456092            \n"
     ]
    }
   ],
   "source": [
    "print \"\".join(nt)"
   ]
  },
  {
   "cell_type": "code",
   "execution_count": null,
   "metadata": {
    "collapsed": true
   },
   "outputs": [],
   "source": []
  },
  {
   "cell_type": "code",
   "execution_count": 124,
   "metadata": {
    "collapsed": false
   },
   "outputs": [
    {
     "name": "stdout",
     "output_type": "stream",
     "text": [
      "[]\n"
     ]
    }
   ],
   "source": [
    "__HEADERS = {\n",
    "    'User-Agent':\n",
    "        'Mozilla/5.0 (Macintosh; Intel Mac OS X 10_8_2) \\\n",
    "         AppleWebKit/537.36 (KHTML, like Gecko) \\\n",
    "         Chrome/27.0.1453.93 Safari/537.36',\n",
    "    'Accept': 'text/html,application/xhtml+xml,application/xml;q=0.9,*/*;q=0.8',\n",
    "    'Accept-Language': 'zh-TW,zh;q=0.8,en-US;q=0.6,en;q=0.4',\n",
    "    'Accept-Encoding': 'gzip,deflate,sdch'\n",
    "}\n",
    "url ='https://tw.mall.yahoo.com/store/watsons'\n",
    "res = requests.get(url, headers = __HEADERS)\n",
    "doc = etree.HTML(res.text)\n",
    "nt = doc.xpath(\"//div[@class='tit-word']//text()\")\n",
    "nt2 = doc.xpath(\"//div[@class='tit-word']/h1/text()\")\n",
    "\n",
    "\n",
    "print nt2\n"
   ]
  },
  {
   "cell_type": "code",
   "execution_count": 125,
   "metadata": {
    "collapsed": false
   },
   "outputs": [
    {
     "name": "stdout",
     "output_type": "stream",
     "text": [
      "\n"
     ]
    }
   ],
   "source": [
    "print \"\".join(nt2)"
   ]
  },
  {
   "cell_type": "code",
   "execution_count": 140,
   "metadata": {
    "collapsed": false
   },
   "outputs": [],
   "source": [
    "res_new = res.text.replace(\"\\n\",\"\")\n"
   ]
  },
  {
   "cell_type": "code",
   "execution_count": null,
   "metadata": {
    "collapsed": false
   },
   "outputs": [],
   "source": []
  },
  {
   "cell_type": "code",
   "execution_count": 139,
   "metadata": {
    "collapsed": false
   },
   "outputs": [
    {
     "name": "stdout",
     "output_type": "stream",
     "text": [
      "購物滿600免運費，寵i 會員消費可累積寵i 點數，只要您的訂購人手機與寵i 卡登記之手機號碼一致，屈臣氏將自動為您累積點數\n"
     ]
    }
   ],
   "source": [
    "\n",
    "ss = u\"購物滿600免運費，寵i 會員消費可累積寵i 點數\"\n",
    "idx = res_new.find(ss)\n",
    "idx2 = res_new[idx:].find('\"><')\n",
    "print res_new[idx:idx+idx2]"
   ]
  },
  {
   "cell_type": "code",
   "execution_count": 131,
   "metadata": {
    "collapsed": false
   },
   "outputs": [
    {
     "name": "stdout",
     "output_type": "stream",
     "text": [
      "429\n"
     ]
    }
   ],
   "source": [
    "print idx"
   ]
  },
  {
   "cell_type": "code",
   "execution_count": 132,
   "metadata": {
    "collapsed": false
   },
   "outputs": [
    {
     "ename": "TypeError",
     "evalue": "'int' object has no attribute '__getitem__'",
     "output_type": "error",
     "traceback": [
      "\u001b[0;31m---------------------------------------------------------------------------\u001b[0m",
      "\u001b[0;31mTypeError\u001b[0m                                 Traceback (most recent call last)",
      "\u001b[0;32m<ipython-input-132-68e19472c92d>\u001b[0m in \u001b[0;36m<module>\u001b[0;34m()\u001b[0m\n\u001b[0;32m----> 1\u001b[0;31m \u001b[0midx\u001b[0m\u001b[0;34m[\u001b[0m\u001b[0;36m429\u001b[0m\u001b[0;34m]\u001b[0m\u001b[0;34m\u001b[0m\u001b[0m\n\u001b[0m",
      "\u001b[0;31mTypeError\u001b[0m: 'int' object has no attribute '__getitem__'"
     ]
    }
   ],
   "source": [
    "idx[429]"
   ]
  },
  {
   "cell_type": "code",
   "execution_count": null,
   "metadata": {
    "collapsed": false
   },
   "outputs": [],
   "source": []
  },
  {
   "cell_type": "code",
   "execution_count": 32,
   "metadata": {
    "collapsed": false
   },
   "outputs": [],
   "source": [
    "__HEADERS = {\n",
    "    'User-Agent':\n",
    "        'Mozilla/5.0 (Macintosh; Intel Mac OS X 10_8_2) \\\n",
    "         AppleWebKit/537.36 (KHTML, like Gecko) \\\n",
    "         Chrome/27.0.1453.93 Safari/537.36',\n",
    "    'Accept': 'text/html,application/xhtml+xml,application/xml;q=0.9,*/*;q=0.8',\n",
    "    'Accept-Language': 'zh-TW,zh;q=0.8,en-US;q=0.6,en;q=0.4',\n",
    "    'Accept-Encoding': 'gzip,deflate,sdch'\n",
    "}\n",
    "url ='https://tw.mall.yahoo.com/store/a74226?hpp=store_brand'\n",
    "\n",
    "res = requests.get(url, headers = __HEADERS)\n",
    "doc = etree.HTML(res.text)\n",
    "res_new = res.text.replace(\"\\n\",\"\")\n",
    "raws = u\"小二‧布屋 - 引領韓風時尚品味，有型是我們的生活態度。精心細選出符合亞洲體型的剪裁每件商品...\"\n",
    "#find all words between -\\s and ... \n",
    "\n",
    "if \"...\" in raws:\n",
    "    ss = re.findall(r\"(?<=-\\s).*(?=\\...)\", raws)\n",
    "else:\n",
    "    ss = re.findall(r\"(?:-\\s)(.*)\", raws)\n",
    "#to make it work for code below\n",
    "ss = \"\".join(ss)\n",
    "#\n",
    "idx = res_new.find(ss)\n",
    "idx2 = res_new[idx:].find('\"><')\n",
    "comdes = res_new[idx:idx+idx2]"
   ]
  },
  {
   "cell_type": "code",
   "execution_count": 33,
   "metadata": {
    "collapsed": false
   },
   "outputs": [
    {
     "name": "stdout",
     "output_type": "stream",
     "text": [
      "引領韓風時尚品味，有型是我們的生活態度。精心細選出符合亞洲體型的剪裁每件商品\n"
     ]
    }
   ],
   "source": [
    "print ss"
   ]
  },
  {
   "cell_type": "code",
   "execution_count": 34,
   "metadata": {
    "collapsed": false
   },
   "outputs": [],
   "source": [
    "idx = res_new.find(ss)"
   ]
  },
  {
   "cell_type": "code",
   "execution_count": 35,
   "metadata": {
    "collapsed": false
   },
   "outputs": [
    {
     "data": {
      "text/plain": [
       "409"
      ]
     },
     "execution_count": 35,
     "metadata": {},
     "output_type": "execute_result"
    }
   ],
   "source": [
    "idx"
   ]
  },
  {
   "cell_type": "code",
   "execution_count": 31,
   "metadata": {
    "collapsed": false
   },
   "outputs": [
    {
     "data": {
      "text/plain": [
       "True"
      ]
     },
     "execution_count": 31,
     "metadata": {},
     "output_type": "execute_result"
    }
   ],
   "source": []
  },
  {
   "cell_type": "code",
   "execution_count": null,
   "metadata": {
    "collapsed": true
   },
   "outputs": [],
   "source": []
  },
  {
   "cell_type": "code",
   "execution_count": null,
   "metadata": {
    "collapsed": true
   },
   "outputs": [],
   "source": []
  },
  {
   "cell_type": "code",
   "execution_count": null,
   "metadata": {
    "collapsed": false
   },
   "outputs": [],
   "source": [
    "\n",
    "        "
   ]
  },
  {
   "cell_type": "code",
   "execution_count": null,
   "metadata": {
    "collapsed": false
   },
   "outputs": [],
   "source": []
  },
  {
   "cell_type": "code",
   "execution_count": 7,
   "metadata": {
    "collapsed": false
   },
   "outputs": [],
   "source": []
  },
  {
   "cell_type": "code",
   "execution_count": null,
   "metadata": {
    "collapsed": false
   },
   "outputs": [],
   "source": []
  },
  {
   "cell_type": "code",
   "execution_count": null,
   "metadata": {
    "collapsed": false
   },
   "outputs": [],
   "source": []
  },
  {
   "cell_type": "code",
   "execution_count": null,
   "metadata": {
    "collapsed": true
   },
   "outputs": [],
   "source": []
  }
 ],
 "metadata": {
  "kernelspec": {
   "display_name": "Python 2",
   "language": "python",
   "name": "python2"
  },
  "language_info": {
   "codemirror_mode": {
    "name": "ipython",
    "version": 2
   },
   "file_extension": ".py",
   "mimetype": "text/x-python",
   "name": "python",
   "nbconvert_exporter": "python",
   "pygments_lexer": "ipython2",
   "version": "2.7.10"
  }
 },
 "nbformat": 4,
 "nbformat_minor": 0
}
